{
  "nbformat": 4,
  "nbformat_minor": 5,
  "metadata": {
    "kernelspec": {
      "display_name": "Python 3",
      "language": "python",
      "name": "python3"
    },
    "language_info": {
      "codemirror_mode": {
        "name": "ipython",
        "version": 3
      },
      "file_extension": ".py",
      "mimetype": "text/x-python",
      "name": "python",
      "nbconvert_exporter": "python",
      "pygments_lexer": "ipython3",
      "version": "3.8.8"
    },
    "colab": {
      "name": "credit card Fraud detection.ipynb",
      "provenance": [],
      "collapsed_sections": [
        "38d3d87c"
      ]
    }
  },
  "cells": [
    {
      "cell_type": "code",
      "metadata": {
        "id": "250207db"
      },
      "source": [
        "#credit card fraud detection\n",
        "#Importing libraries \n",
        "import numpy as np \n",
        "import pandas as pd\n",
        "from sklearn.model_selection import train_test_split\n",
        "from sklearn.linear_model import LogisticRegression\n",
        "from sklearn.ensemble import RandomForestClassifier\n",
        "from sklearn.metrics import accuracy_score"
      ],
      "id": "250207db",
      "execution_count": null,
      "outputs": []
    },
    {
      "cell_type": "code",
      "metadata": {
        "id": "0e49c1e0"
      },
      "source": [
        "credit_card_data = pd.read_csv('credit card fraud data.csv') #importing and saving data by using data.csv file"
      ],
      "id": "0e49c1e0",
      "execution_count": null,
      "outputs": []
    },
    {
      "cell_type": "code",
      "metadata": {
        "id": "7024c792",
        "outputId": "fc1b7ead-53a0-4a0c-95bc-9f38e326de01"
      },
      "source": [
        "credit_card_data.shape #represents the row and colomn"
      ],
      "id": "7024c792",
      "execution_count": null,
      "outputs": [
        {
          "data": {
            "text/plain": [
              "(42317, 32)"
            ]
          },
          "execution_count": 3,
          "metadata": {},
          "output_type": "execute_result"
        }
      ]
    },
    {
      "cell_type": "code",
      "metadata": {
        "id": "a0e2ca2d",
        "outputId": "f4f7414b-acb8-4918-9509-bba6febe6521"
      },
      "source": [
        "credit_card_data.tail() #this is representing five rows"
      ],
      "id": "a0e2ca2d",
      "execution_count": null,
      "outputs": [
        {
          "data": {
            "text/html": [
              "<div>\n",
              "<style scoped>\n",
              "    .dataframe tbody tr th:only-of-type {\n",
              "        vertical-align: middle;\n",
              "    }\n",
              "\n",
              "    .dataframe tbody tr th {\n",
              "        vertical-align: top;\n",
              "    }\n",
              "\n",
              "    .dataframe thead th {\n",
              "        text-align: right;\n",
              "    }\n",
              "</style>\n",
              "<table border=\"1\" class=\"dataframe\">\n",
              "  <thead>\n",
              "    <tr style=\"text-align: right;\">\n",
              "      <th></th>\n",
              "      <th>Unnamed: 0</th>\n",
              "      <th>Time</th>\n",
              "      <th>V1</th>\n",
              "      <th>V2</th>\n",
              "      <th>V3</th>\n",
              "      <th>V4</th>\n",
              "      <th>V5</th>\n",
              "      <th>V6</th>\n",
              "      <th>V7</th>\n",
              "      <th>V8</th>\n",
              "      <th>...</th>\n",
              "      <th>V21</th>\n",
              "      <th>V22</th>\n",
              "      <th>V23</th>\n",
              "      <th>V24</th>\n",
              "      <th>V25</th>\n",
              "      <th>V26</th>\n",
              "      <th>V27</th>\n",
              "      <th>V28</th>\n",
              "      <th>Amount</th>\n",
              "      <th>Class</th>\n",
              "    </tr>\n",
              "  </thead>\n",
              "  <tbody>\n",
              "    <tr>\n",
              "      <th>42312</th>\n",
              "      <td>279863</td>\n",
              "      <td>169142.0</td>\n",
              "      <td>-1.927883</td>\n",
              "      <td>1.125653</td>\n",
              "      <td>-4.518331</td>\n",
              "      <td>1.749293</td>\n",
              "      <td>-1.566487</td>\n",
              "      <td>-2.010494</td>\n",
              "      <td>-0.882850</td>\n",
              "      <td>0.697211</td>\n",
              "      <td>...</td>\n",
              "      <td>0.778584</td>\n",
              "      <td>-0.319189</td>\n",
              "      <td>0.639419</td>\n",
              "      <td>-0.294885</td>\n",
              "      <td>0.537503</td>\n",
              "      <td>0.788395</td>\n",
              "      <td>0.292680</td>\n",
              "      <td>0.147968</td>\n",
              "      <td>390.00</td>\n",
              "      <td>1</td>\n",
              "    </tr>\n",
              "    <tr>\n",
              "      <th>42313</th>\n",
              "      <td>280143</td>\n",
              "      <td>169347.0</td>\n",
              "      <td>1.378559</td>\n",
              "      <td>1.289381</td>\n",
              "      <td>-5.004247</td>\n",
              "      <td>1.411850</td>\n",
              "      <td>0.442581</td>\n",
              "      <td>-1.326536</td>\n",
              "      <td>-1.413170</td>\n",
              "      <td>0.248525</td>\n",
              "      <td>...</td>\n",
              "      <td>0.370612</td>\n",
              "      <td>0.028234</td>\n",
              "      <td>-0.145640</td>\n",
              "      <td>-0.081049</td>\n",
              "      <td>0.521875</td>\n",
              "      <td>0.739467</td>\n",
              "      <td>0.389152</td>\n",
              "      <td>0.186637</td>\n",
              "      <td>0.76</td>\n",
              "      <td>1</td>\n",
              "    </tr>\n",
              "    <tr>\n",
              "      <th>42314</th>\n",
              "      <td>280149</td>\n",
              "      <td>169351.0</td>\n",
              "      <td>-0.676143</td>\n",
              "      <td>1.126366</td>\n",
              "      <td>-2.213700</td>\n",
              "      <td>0.468308</td>\n",
              "      <td>-1.120541</td>\n",
              "      <td>-0.003346</td>\n",
              "      <td>-2.234739</td>\n",
              "      <td>1.210158</td>\n",
              "      <td>...</td>\n",
              "      <td>0.751826</td>\n",
              "      <td>0.834108</td>\n",
              "      <td>0.190944</td>\n",
              "      <td>0.032070</td>\n",
              "      <td>-0.739695</td>\n",
              "      <td>0.471111</td>\n",
              "      <td>0.385107</td>\n",
              "      <td>0.194361</td>\n",
              "      <td>77.89</td>\n",
              "      <td>1</td>\n",
              "    </tr>\n",
              "    <tr>\n",
              "      <th>42315</th>\n",
              "      <td>281144</td>\n",
              "      <td>169966.0</td>\n",
              "      <td>-3.113832</td>\n",
              "      <td>0.585864</td>\n",
              "      <td>-5.399730</td>\n",
              "      <td>1.817092</td>\n",
              "      <td>-0.840618</td>\n",
              "      <td>-2.943548</td>\n",
              "      <td>-2.208002</td>\n",
              "      <td>1.058733</td>\n",
              "      <td>...</td>\n",
              "      <td>0.583276</td>\n",
              "      <td>-0.269209</td>\n",
              "      <td>-0.456108</td>\n",
              "      <td>-0.183659</td>\n",
              "      <td>-0.328168</td>\n",
              "      <td>0.606116</td>\n",
              "      <td>0.884876</td>\n",
              "      <td>-0.253700</td>\n",
              "      <td>245.00</td>\n",
              "      <td>1</td>\n",
              "    </tr>\n",
              "    <tr>\n",
              "      <th>42316</th>\n",
              "      <td>281674</td>\n",
              "      <td>170348.0</td>\n",
              "      <td>1.991976</td>\n",
              "      <td>0.158476</td>\n",
              "      <td>-2.583441</td>\n",
              "      <td>0.408670</td>\n",
              "      <td>1.151147</td>\n",
              "      <td>-0.096695</td>\n",
              "      <td>0.223050</td>\n",
              "      <td>-0.068384</td>\n",
              "      <td>...</td>\n",
              "      <td>-0.164350</td>\n",
              "      <td>-0.295135</td>\n",
              "      <td>-0.072173</td>\n",
              "      <td>-0.450261</td>\n",
              "      <td>0.313267</td>\n",
              "      <td>-0.289617</td>\n",
              "      <td>0.002988</td>\n",
              "      <td>-0.015309</td>\n",
              "      <td>42.53</td>\n",
              "      <td>1</td>\n",
              "    </tr>\n",
              "  </tbody>\n",
              "</table>\n",
              "<p>5 rows × 32 columns</p>\n",
              "</div>"
            ],
            "text/plain": [
              "       Unnamed: 0      Time        V1        V2        V3        V4        V5  \\\n",
              "42312      279863  169142.0 -1.927883  1.125653 -4.518331  1.749293 -1.566487   \n",
              "42313      280143  169347.0  1.378559  1.289381 -5.004247  1.411850  0.442581   \n",
              "42314      280149  169351.0 -0.676143  1.126366 -2.213700  0.468308 -1.120541   \n",
              "42315      281144  169966.0 -3.113832  0.585864 -5.399730  1.817092 -0.840618   \n",
              "42316      281674  170348.0  1.991976  0.158476 -2.583441  0.408670  1.151147   \n",
              "\n",
              "             V6        V7        V8  ...       V21       V22       V23  \\\n",
              "42312 -2.010494 -0.882850  0.697211  ...  0.778584 -0.319189  0.639419   \n",
              "42313 -1.326536 -1.413170  0.248525  ...  0.370612  0.028234 -0.145640   \n",
              "42314 -0.003346 -2.234739  1.210158  ...  0.751826  0.834108  0.190944   \n",
              "42315 -2.943548 -2.208002  1.058733  ...  0.583276 -0.269209 -0.456108   \n",
              "42316 -0.096695  0.223050 -0.068384  ... -0.164350 -0.295135 -0.072173   \n",
              "\n",
              "            V24       V25       V26       V27       V28  Amount  Class  \n",
              "42312 -0.294885  0.537503  0.788395  0.292680  0.147968  390.00      1  \n",
              "42313 -0.081049  0.521875  0.739467  0.389152  0.186637    0.76      1  \n",
              "42314  0.032070 -0.739695  0.471111  0.385107  0.194361   77.89      1  \n",
              "42315 -0.183659 -0.328168  0.606116  0.884876 -0.253700  245.00      1  \n",
              "42316 -0.450261  0.313267 -0.289617  0.002988 -0.015309   42.53      1  \n",
              "\n",
              "[5 rows x 32 columns]"
            ]
          },
          "execution_count": 4,
          "metadata": {},
          "output_type": "execute_result"
        }
      ]
    },
    {
      "cell_type": "code",
      "metadata": {
        "id": "e52f8973",
        "outputId": "b0d02a33-f678-4c4b-af0b-5d8ac828b438"
      },
      "source": [
        "credit_card_data.info() #explain the type of data(float,int)"
      ],
      "id": "e52f8973",
      "execution_count": null,
      "outputs": [
        {
          "name": "stdout",
          "output_type": "stream",
          "text": [
            "<class 'pandas.core.frame.DataFrame'>\n",
            "RangeIndex: 42317 entries, 0 to 42316\n",
            "Data columns (total 32 columns):\n",
            " #   Column      Non-Null Count  Dtype  \n",
            "---  ------      --------------  -----  \n",
            " 0   Unnamed: 0  42317 non-null  int64  \n",
            " 1   Time        42317 non-null  float64\n",
            " 2   V1          42317 non-null  float64\n",
            " 3   V2          42317 non-null  float64\n",
            " 4   V3          42317 non-null  float64\n",
            " 5   V4          42317 non-null  float64\n",
            " 6   V5          42317 non-null  float64\n",
            " 7   V6          42317 non-null  float64\n",
            " 8   V7          42317 non-null  float64\n",
            " 9   V8          42317 non-null  float64\n",
            " 10  V9          42317 non-null  float64\n",
            " 11  V10         42317 non-null  float64\n",
            " 12  V11         42317 non-null  float64\n",
            " 13  V12         42317 non-null  float64\n",
            " 14  V13         42317 non-null  float64\n",
            " 15  V14         42317 non-null  float64\n",
            " 16  V15         42317 non-null  float64\n",
            " 17  V16         42317 non-null  float64\n",
            " 18  V17         42317 non-null  float64\n",
            " 19  V18         42317 non-null  float64\n",
            " 20  V19         42317 non-null  float64\n",
            " 21  V20         42317 non-null  float64\n",
            " 22  V21         42317 non-null  float64\n",
            " 23  V22         42317 non-null  float64\n",
            " 24  V23         42317 non-null  float64\n",
            " 25  V24         42317 non-null  float64\n",
            " 26  V25         42317 non-null  float64\n",
            " 27  V26         42317 non-null  float64\n",
            " 28  V27         42317 non-null  float64\n",
            " 29  V28         42317 non-null  float64\n",
            " 30  Amount      42317 non-null  float64\n",
            " 31  Class       42317 non-null  int64  \n",
            "dtypes: float64(30), int64(2)\n",
            "memory usage: 10.3 MB\n"
          ]
        }
      ]
    },
    {
      "cell_type": "code",
      "metadata": {
        "id": "8f4ac917",
        "outputId": "cecd8008-b7e2-4a61-da7c-046d3e381b2f"
      },
      "source": [
        "credit_card_data.isnull().sum() #detecting the missing data "
      ],
      "id": "8f4ac917",
      "execution_count": null,
      "outputs": [
        {
          "data": {
            "text/plain": [
              "Unnamed: 0    0\n",
              "Time          0\n",
              "V1            0\n",
              "V2            0\n",
              "V3            0\n",
              "V4            0\n",
              "V5            0\n",
              "V6            0\n",
              "V7            0\n",
              "V8            0\n",
              "V9            0\n",
              "V10           0\n",
              "V11           0\n",
              "V12           0\n",
              "V13           0\n",
              "V14           0\n",
              "V15           0\n",
              "V16           0\n",
              "V17           0\n",
              "V18           0\n",
              "V19           0\n",
              "V20           0\n",
              "V21           0\n",
              "V22           0\n",
              "V23           0\n",
              "V24           0\n",
              "V25           0\n",
              "V26           0\n",
              "V27           0\n",
              "V28           0\n",
              "Amount        0\n",
              "Class         0\n",
              "dtype: int64"
            ]
          },
          "execution_count": 6,
          "metadata": {},
          "output_type": "execute_result"
        }
      ]
    },
    {
      "cell_type": "code",
      "metadata": {
        "id": "b651c5d1",
        "outputId": "ad7357ef-8c40-4b51-9ddf-f823a674270d"
      },
      "source": [
        "credit_card_data['Class'].value_counts() #its showing the fraud and legit data\n"
      ],
      "id": "b651c5d1",
      "execution_count": null,
      "outputs": [
        {
          "data": {
            "text/plain": [
              "0    41825\n",
              "1      492\n",
              "Name: Class, dtype: int64"
            ]
          },
          "execution_count": 7,
          "metadata": {},
          "output_type": "execute_result"
        }
      ]
    },
    {
      "cell_type": "code",
      "metadata": {
        "id": "af41f517"
      },
      "source": [
        "legit = credit_card_data[credit_card_data.Class == 0] # dividing legit and fraud transaction data in different dataframe\n",
        "fraud = credit_card_data[credit_card_data.Class == 1]"
      ],
      "id": "af41f517",
      "execution_count": null,
      "outputs": []
    },
    {
      "cell_type": "code",
      "metadata": {
        "id": "b291571b",
        "outputId": "d7e22a9e-8e86-4492-cd54-64fcecddbdee"
      },
      "source": [
        "print(legit.shape) #detecting how many columns and rows are there in legit and fraud\n",
        "print(fraud.shape)"
      ],
      "id": "b291571b",
      "execution_count": null,
      "outputs": [
        {
          "name": "stdout",
          "output_type": "stream",
          "text": [
            "(41825, 32)\n",
            "(492, 32)\n"
          ]
        }
      ]
    },
    {
      "cell_type": "code",
      "metadata": {
        "id": "52c100d7",
        "outputId": "a200975a-bb29-4cbf-a7a2-08553e86a160"
      },
      "source": [
        "legit.Amount.describe() #showing amount data of legit"
      ],
      "id": "52c100d7",
      "execution_count": null,
      "outputs": [
        {
          "data": {
            "text/plain": [
              "count    41825.00000\n",
              "mean        89.16063\n",
              "std        239.11913\n",
              "min          0.00000\n",
              "25%          5.49000\n",
              "50%         21.99000\n",
              "75%         76.07000\n",
              "max       8790.26000\n",
              "Name: Amount, dtype: float64"
            ]
          },
          "execution_count": 10,
          "metadata": {},
          "output_type": "execute_result"
        }
      ]
    },
    {
      "cell_type": "code",
      "metadata": {
        "id": "45d000cd",
        "outputId": "10b18a83-390d-40b0-eb2d-a7ea636ecc20"
      },
      "source": [
        "fraud.Amount.describe() ##showing amount data of fraud"
      ],
      "id": "45d000cd",
      "execution_count": null,
      "outputs": [
        {
          "data": {
            "text/plain": [
              "count     492.000000\n",
              "mean      122.211321\n",
              "std       256.683288\n",
              "min         0.000000\n",
              "25%         1.000000\n",
              "50%         9.250000\n",
              "75%       105.890000\n",
              "max      2125.870000\n",
              "Name: Amount, dtype: float64"
            ]
          },
          "execution_count": 11,
          "metadata": {},
          "output_type": "execute_result"
        }
      ]
    },
    {
      "cell_type": "code",
      "metadata": {
        "id": "df734e2d",
        "outputId": "6cf7ace7-a5b2-431c-a8e5-028bb0499b32"
      },
      "source": [
        "credit_card_data.groupby('Class').mean() #mean of legit and fraud in different group"
      ],
      "id": "df734e2d",
      "execution_count": null,
      "outputs": [
        {
          "data": {
            "text/html": [
              "<div>\n",
              "<style scoped>\n",
              "    .dataframe tbody tr th:only-of-type {\n",
              "        vertical-align: middle;\n",
              "    }\n",
              "\n",
              "    .dataframe tbody tr th {\n",
              "        vertical-align: top;\n",
              "    }\n",
              "\n",
              "    .dataframe thead th {\n",
              "        text-align: right;\n",
              "    }\n",
              "</style>\n",
              "<table border=\"1\" class=\"dataframe\">\n",
              "  <thead>\n",
              "    <tr style=\"text-align: right;\">\n",
              "      <th></th>\n",
              "      <th>Unnamed: 0</th>\n",
              "      <th>Time</th>\n",
              "      <th>V1</th>\n",
              "      <th>V2</th>\n",
              "      <th>V3</th>\n",
              "      <th>V4</th>\n",
              "      <th>V5</th>\n",
              "      <th>V6</th>\n",
              "      <th>V7</th>\n",
              "      <th>V8</th>\n",
              "      <th>...</th>\n",
              "      <th>V20</th>\n",
              "      <th>V21</th>\n",
              "      <th>V22</th>\n",
              "      <th>V23</th>\n",
              "      <th>V24</th>\n",
              "      <th>V25</th>\n",
              "      <th>V26</th>\n",
              "      <th>V27</th>\n",
              "      <th>V28</th>\n",
              "      <th>Amount</th>\n",
              "    </tr>\n",
              "    <tr>\n",
              "      <th>Class</th>\n",
              "      <th></th>\n",
              "      <th></th>\n",
              "      <th></th>\n",
              "      <th></th>\n",
              "      <th></th>\n",
              "      <th></th>\n",
              "      <th></th>\n",
              "      <th></th>\n",
              "      <th></th>\n",
              "      <th></th>\n",
              "      <th></th>\n",
              "      <th></th>\n",
              "      <th></th>\n",
              "      <th></th>\n",
              "      <th></th>\n",
              "      <th></th>\n",
              "      <th></th>\n",
              "      <th></th>\n",
              "      <th></th>\n",
              "      <th></th>\n",
              "      <th></th>\n",
              "    </tr>\n",
              "  </thead>\n",
              "  <tbody>\n",
              "    <tr>\n",
              "      <th>0</th>\n",
              "      <td>142846.913903</td>\n",
              "      <td>95036.016067</td>\n",
              "      <td>0.002383</td>\n",
              "      <td>-0.010142</td>\n",
              "      <td>0.006524</td>\n",
              "      <td>-0.002275</td>\n",
              "      <td>0.012614</td>\n",
              "      <td>-0.001251</td>\n",
              "      <td>0.016630</td>\n",
              "      <td>-0.003248</td>\n",
              "      <td>...</td>\n",
              "      <td>-0.003313</td>\n",
              "      <td>0.002865</td>\n",
              "      <td>-0.001155</td>\n",
              "      <td>0.000825</td>\n",
              "      <td>0.001576</td>\n",
              "      <td>0.000247</td>\n",
              "      <td>-0.000582</td>\n",
              "      <td>-0.001228</td>\n",
              "      <td>0.000915</td>\n",
              "      <td>89.160630</td>\n",
              "    </tr>\n",
              "    <tr>\n",
              "      <th>1</th>\n",
              "      <td>119295.058943</td>\n",
              "      <td>80746.806911</td>\n",
              "      <td>-4.771948</td>\n",
              "      <td>3.623778</td>\n",
              "      <td>-7.033281</td>\n",
              "      <td>4.542029</td>\n",
              "      <td>-3.151225</td>\n",
              "      <td>-1.397737</td>\n",
              "      <td>-5.568731</td>\n",
              "      <td>0.570636</td>\n",
              "      <td>...</td>\n",
              "      <td>0.372319</td>\n",
              "      <td>0.713588</td>\n",
              "      <td>0.014049</td>\n",
              "      <td>-0.040308</td>\n",
              "      <td>-0.105130</td>\n",
              "      <td>0.041449</td>\n",
              "      <td>0.051648</td>\n",
              "      <td>0.170575</td>\n",
              "      <td>0.075667</td>\n",
              "      <td>122.211321</td>\n",
              "    </tr>\n",
              "  </tbody>\n",
              "</table>\n",
              "<p>2 rows × 31 columns</p>\n",
              "</div>"
            ],
            "text/plain": [
              "          Unnamed: 0          Time        V1        V2        V3        V4  \\\n",
              "Class                                                                        \n",
              "0      142846.913903  95036.016067  0.002383 -0.010142  0.006524 -0.002275   \n",
              "1      119295.058943  80746.806911 -4.771948  3.623778 -7.033281  4.542029   \n",
              "\n",
              "             V5        V6        V7        V8  ...       V20       V21  \\\n",
              "Class                                          ...                       \n",
              "0      0.012614 -0.001251  0.016630 -0.003248  ... -0.003313  0.002865   \n",
              "1     -3.151225 -1.397737 -5.568731  0.570636  ...  0.372319  0.713588   \n",
              "\n",
              "            V22       V23       V24       V25       V26       V27       V28  \\\n",
              "Class                                                                         \n",
              "0     -0.001155  0.000825  0.001576  0.000247 -0.000582 -0.001228  0.000915   \n",
              "1      0.014049 -0.040308 -0.105130  0.041449  0.051648  0.170575  0.075667   \n",
              "\n",
              "           Amount  \n",
              "Class              \n",
              "0       89.160630  \n",
              "1      122.211321  \n",
              "\n",
              "[2 rows x 31 columns]"
            ]
          },
          "execution_count": 12,
          "metadata": {},
          "output_type": "execute_result"
        }
      ]
    },
    {
      "cell_type": "code",
      "metadata": {
        "id": "1f8fba95"
      },
      "source": [
        "legit_sample = legit.sample(n=600) #now taking 600 data from legit to make data size of fraud and legit transaction comparable\n",
        "# In logistic regression if data size of one output is very large than other then problem may happen by under fitting data "
      ],
      "id": "1f8fba95",
      "execution_count": null,
      "outputs": []
    },
    {
      "cell_type": "code",
      "metadata": {
        "id": "0883b885",
        "outputId": "6e259985-1339-43e2-f45e-c31b8b164589"
      },
      "source": [
        "legit_sample.shape # representing number of row and column in new legit sample"
      ],
      "id": "0883b885",
      "execution_count": null,
      "outputs": [
        {
          "data": {
            "text/plain": [
              "(600, 32)"
            ]
          },
          "execution_count": 14,
          "metadata": {},
          "output_type": "execute_result"
        }
      ]
    },
    {
      "cell_type": "code",
      "metadata": {
        "id": "a9b4c8b6"
      },
      "source": [
        "new_dataset = pd.concat([legit_sample, fraud], axis=0) #combining fraud and legit sample"
      ],
      "id": "a9b4c8b6",
      "execution_count": null,
      "outputs": []
    },
    {
      "cell_type": "code",
      "metadata": {
        "id": "0163e78f",
        "outputId": "ec9b1346-a4af-4df5-9275-b9e7c1e2b7be"
      },
      "source": [
        "\n",
        "new_dataset.head() #reprsents the new dataset 5 rows"
      ],
      "id": "0163e78f",
      "execution_count": null,
      "outputs": [
        {
          "data": {
            "text/html": [
              "<div>\n",
              "<style scoped>\n",
              "    .dataframe tbody tr th:only-of-type {\n",
              "        vertical-align: middle;\n",
              "    }\n",
              "\n",
              "    .dataframe tbody tr th {\n",
              "        vertical-align: top;\n",
              "    }\n",
              "\n",
              "    .dataframe thead th {\n",
              "        text-align: right;\n",
              "    }\n",
              "</style>\n",
              "<table border=\"1\" class=\"dataframe\">\n",
              "  <thead>\n",
              "    <tr style=\"text-align: right;\">\n",
              "      <th></th>\n",
              "      <th>Unnamed: 0</th>\n",
              "      <th>Time</th>\n",
              "      <th>V1</th>\n",
              "      <th>V2</th>\n",
              "      <th>V3</th>\n",
              "      <th>V4</th>\n",
              "      <th>V5</th>\n",
              "      <th>V6</th>\n",
              "      <th>V7</th>\n",
              "      <th>V8</th>\n",
              "      <th>...</th>\n",
              "      <th>V21</th>\n",
              "      <th>V22</th>\n",
              "      <th>V23</th>\n",
              "      <th>V24</th>\n",
              "      <th>V25</th>\n",
              "      <th>V26</th>\n",
              "      <th>V27</th>\n",
              "      <th>V28</th>\n",
              "      <th>Amount</th>\n",
              "      <th>Class</th>\n",
              "    </tr>\n",
              "  </thead>\n",
              "  <tbody>\n",
              "    <tr>\n",
              "      <th>7545</th>\n",
              "      <td>39475</td>\n",
              "      <td>39852.0</td>\n",
              "      <td>1.323436</td>\n",
              "      <td>0.250955</td>\n",
              "      <td>-0.122484</td>\n",
              "      <td>0.476151</td>\n",
              "      <td>0.005921</td>\n",
              "      <td>-0.543387</td>\n",
              "      <td>-0.005762</td>\n",
              "      <td>-0.081414</td>\n",
              "      <td>...</td>\n",
              "      <td>-0.363467</td>\n",
              "      <td>-1.095632</td>\n",
              "      <td>0.022048</td>\n",
              "      <td>-0.655209</td>\n",
              "      <td>0.309507</td>\n",
              "      <td>0.158095</td>\n",
              "      <td>-0.031326</td>\n",
              "      <td>0.018740</td>\n",
              "      <td>1.98</td>\n",
              "      <td>0</td>\n",
              "    </tr>\n",
              "    <tr>\n",
              "      <th>16331</th>\n",
              "      <td>119224</td>\n",
              "      <td>75375.0</td>\n",
              "      <td>1.101958</td>\n",
              "      <td>0.033121</td>\n",
              "      <td>1.203524</td>\n",
              "      <td>1.284345</td>\n",
              "      <td>-0.905243</td>\n",
              "      <td>-0.413869</td>\n",
              "      <td>-0.422015</td>\n",
              "      <td>-0.013224</td>\n",
              "      <td>...</td>\n",
              "      <td>0.134114</td>\n",
              "      <td>0.367896</td>\n",
              "      <td>-0.047546</td>\n",
              "      <td>0.391943</td>\n",
              "      <td>0.345666</td>\n",
              "      <td>-0.367159</td>\n",
              "      <td>0.059058</td>\n",
              "      <td>0.048623</td>\n",
              "      <td>45.00</td>\n",
              "      <td>0</td>\n",
              "    </tr>\n",
              "    <tr>\n",
              "      <th>6248</th>\n",
              "      <td>134526</td>\n",
              "      <td>80844.0</td>\n",
              "      <td>-0.120173</td>\n",
              "      <td>0.691338</td>\n",
              "      <td>0.465524</td>\n",
              "      <td>-0.777429</td>\n",
              "      <td>-0.120862</td>\n",
              "      <td>-1.256672</td>\n",
              "      <td>0.626456</td>\n",
              "      <td>-0.398861</td>\n",
              "      <td>...</td>\n",
              "      <td>0.328903</td>\n",
              "      <td>0.906815</td>\n",
              "      <td>-0.258401</td>\n",
              "      <td>0.375488</td>\n",
              "      <td>-0.126752</td>\n",
              "      <td>-0.058513</td>\n",
              "      <td>0.020623</td>\n",
              "      <td>0.163386</td>\n",
              "      <td>22.49</td>\n",
              "      <td>0</td>\n",
              "    </tr>\n",
              "    <tr>\n",
              "      <th>11702</th>\n",
              "      <td>168963</td>\n",
              "      <td>119458.0</td>\n",
              "      <td>-0.861859</td>\n",
              "      <td>0.409233</td>\n",
              "      <td>-0.576610</td>\n",
              "      <td>-1.630561</td>\n",
              "      <td>2.486559</td>\n",
              "      <td>3.638282</td>\n",
              "      <td>-0.284048</td>\n",
              "      <td>1.451850</td>\n",
              "      <td>...</td>\n",
              "      <td>-0.340951</td>\n",
              "      <td>-1.291552</td>\n",
              "      <td>0.186636</td>\n",
              "      <td>0.649760</td>\n",
              "      <td>-0.447387</td>\n",
              "      <td>-0.409701</td>\n",
              "      <td>0.015846</td>\n",
              "      <td>0.036434</td>\n",
              "      <td>23.29</td>\n",
              "      <td>0</td>\n",
              "    </tr>\n",
              "    <tr>\n",
              "      <th>8548</th>\n",
              "      <td>225039</td>\n",
              "      <td>144078.0</td>\n",
              "      <td>-0.379106</td>\n",
              "      <td>1.040934</td>\n",
              "      <td>-2.547272</td>\n",
              "      <td>-2.124769</td>\n",
              "      <td>3.296818</td>\n",
              "      <td>2.695935</td>\n",
              "      <td>0.716059</td>\n",
              "      <td>1.036578</td>\n",
              "      <td>...</td>\n",
              "      <td>0.287695</td>\n",
              "      <td>0.785989</td>\n",
              "      <td>-0.153868</td>\n",
              "      <td>0.754224</td>\n",
              "      <td>-0.248810</td>\n",
              "      <td>0.111286</td>\n",
              "      <td>0.289422</td>\n",
              "      <td>0.196690</td>\n",
              "      <td>4.62</td>\n",
              "      <td>0</td>\n",
              "    </tr>\n",
              "  </tbody>\n",
              "</table>\n",
              "<p>5 rows × 32 columns</p>\n",
              "</div>"
            ],
            "text/plain": [
              "       Unnamed: 0      Time        V1        V2        V3        V4        V5  \\\n",
              "7545        39475   39852.0  1.323436  0.250955 -0.122484  0.476151  0.005921   \n",
              "16331      119224   75375.0  1.101958  0.033121  1.203524  1.284345 -0.905243   \n",
              "6248       134526   80844.0 -0.120173  0.691338  0.465524 -0.777429 -0.120862   \n",
              "11702      168963  119458.0 -0.861859  0.409233 -0.576610 -1.630561  2.486559   \n",
              "8548       225039  144078.0 -0.379106  1.040934 -2.547272 -2.124769  3.296818   \n",
              "\n",
              "             V6        V7        V8  ...       V21       V22       V23  \\\n",
              "7545  -0.543387 -0.005762 -0.081414  ... -0.363467 -1.095632  0.022048   \n",
              "16331 -0.413869 -0.422015 -0.013224  ...  0.134114  0.367896 -0.047546   \n",
              "6248  -1.256672  0.626456 -0.398861  ...  0.328903  0.906815 -0.258401   \n",
              "11702  3.638282 -0.284048  1.451850  ... -0.340951 -1.291552  0.186636   \n",
              "8548   2.695935  0.716059  1.036578  ...  0.287695  0.785989 -0.153868   \n",
              "\n",
              "            V24       V25       V26       V27       V28  Amount  Class  \n",
              "7545  -0.655209  0.309507  0.158095 -0.031326  0.018740    1.98      0  \n",
              "16331  0.391943  0.345666 -0.367159  0.059058  0.048623   45.00      0  \n",
              "6248   0.375488 -0.126752 -0.058513  0.020623  0.163386   22.49      0  \n",
              "11702  0.649760 -0.447387 -0.409701  0.015846  0.036434   23.29      0  \n",
              "8548   0.754224 -0.248810  0.111286  0.289422  0.196690    4.62      0  \n",
              "\n",
              "[5 rows x 32 columns]"
            ]
          },
          "execution_count": 16,
          "metadata": {},
          "output_type": "execute_result"
        }
      ]
    },
    {
      "cell_type": "code",
      "metadata": {
        "id": "43033672",
        "outputId": "1ae49a67-b2e5-413a-cc70-c19c12246d02"
      },
      "source": [
        "new_dataset.shape # seeing number of row and column in new data set\n",
        "\n"
      ],
      "id": "43033672",
      "execution_count": null,
      "outputs": [
        {
          "data": {
            "text/plain": [
              "(1092, 32)"
            ]
          },
          "execution_count": 17,
          "metadata": {},
          "output_type": "execute_result"
        }
      ]
    },
    {
      "cell_type": "code",
      "metadata": {
        "id": "96d4c016",
        "outputId": "23baf4f2-b920-44cd-d93e-da330a79f55d"
      },
      "source": [
        "new_dataset.tail()"
      ],
      "id": "96d4c016",
      "execution_count": null,
      "outputs": [
        {
          "data": {
            "text/html": [
              "<div>\n",
              "<style scoped>\n",
              "    .dataframe tbody tr th:only-of-type {\n",
              "        vertical-align: middle;\n",
              "    }\n",
              "\n",
              "    .dataframe tbody tr th {\n",
              "        vertical-align: top;\n",
              "    }\n",
              "\n",
              "    .dataframe thead th {\n",
              "        text-align: right;\n",
              "    }\n",
              "</style>\n",
              "<table border=\"1\" class=\"dataframe\">\n",
              "  <thead>\n",
              "    <tr style=\"text-align: right;\">\n",
              "      <th></th>\n",
              "      <th>Unnamed: 0</th>\n",
              "      <th>Time</th>\n",
              "      <th>V1</th>\n",
              "      <th>V2</th>\n",
              "      <th>V3</th>\n",
              "      <th>V4</th>\n",
              "      <th>V5</th>\n",
              "      <th>V6</th>\n",
              "      <th>V7</th>\n",
              "      <th>V8</th>\n",
              "      <th>...</th>\n",
              "      <th>V21</th>\n",
              "      <th>V22</th>\n",
              "      <th>V23</th>\n",
              "      <th>V24</th>\n",
              "      <th>V25</th>\n",
              "      <th>V26</th>\n",
              "      <th>V27</th>\n",
              "      <th>V28</th>\n",
              "      <th>Amount</th>\n",
              "      <th>Class</th>\n",
              "    </tr>\n",
              "  </thead>\n",
              "  <tbody>\n",
              "    <tr>\n",
              "      <th>42312</th>\n",
              "      <td>279863</td>\n",
              "      <td>169142.0</td>\n",
              "      <td>-1.927883</td>\n",
              "      <td>1.125653</td>\n",
              "      <td>-4.518331</td>\n",
              "      <td>1.749293</td>\n",
              "      <td>-1.566487</td>\n",
              "      <td>-2.010494</td>\n",
              "      <td>-0.882850</td>\n",
              "      <td>0.697211</td>\n",
              "      <td>...</td>\n",
              "      <td>0.778584</td>\n",
              "      <td>-0.319189</td>\n",
              "      <td>0.639419</td>\n",
              "      <td>-0.294885</td>\n",
              "      <td>0.537503</td>\n",
              "      <td>0.788395</td>\n",
              "      <td>0.292680</td>\n",
              "      <td>0.147968</td>\n",
              "      <td>390.00</td>\n",
              "      <td>1</td>\n",
              "    </tr>\n",
              "    <tr>\n",
              "      <th>42313</th>\n",
              "      <td>280143</td>\n",
              "      <td>169347.0</td>\n",
              "      <td>1.378559</td>\n",
              "      <td>1.289381</td>\n",
              "      <td>-5.004247</td>\n",
              "      <td>1.411850</td>\n",
              "      <td>0.442581</td>\n",
              "      <td>-1.326536</td>\n",
              "      <td>-1.413170</td>\n",
              "      <td>0.248525</td>\n",
              "      <td>...</td>\n",
              "      <td>0.370612</td>\n",
              "      <td>0.028234</td>\n",
              "      <td>-0.145640</td>\n",
              "      <td>-0.081049</td>\n",
              "      <td>0.521875</td>\n",
              "      <td>0.739467</td>\n",
              "      <td>0.389152</td>\n",
              "      <td>0.186637</td>\n",
              "      <td>0.76</td>\n",
              "      <td>1</td>\n",
              "    </tr>\n",
              "    <tr>\n",
              "      <th>42314</th>\n",
              "      <td>280149</td>\n",
              "      <td>169351.0</td>\n",
              "      <td>-0.676143</td>\n",
              "      <td>1.126366</td>\n",
              "      <td>-2.213700</td>\n",
              "      <td>0.468308</td>\n",
              "      <td>-1.120541</td>\n",
              "      <td>-0.003346</td>\n",
              "      <td>-2.234739</td>\n",
              "      <td>1.210158</td>\n",
              "      <td>...</td>\n",
              "      <td>0.751826</td>\n",
              "      <td>0.834108</td>\n",
              "      <td>0.190944</td>\n",
              "      <td>0.032070</td>\n",
              "      <td>-0.739695</td>\n",
              "      <td>0.471111</td>\n",
              "      <td>0.385107</td>\n",
              "      <td>0.194361</td>\n",
              "      <td>77.89</td>\n",
              "      <td>1</td>\n",
              "    </tr>\n",
              "    <tr>\n",
              "      <th>42315</th>\n",
              "      <td>281144</td>\n",
              "      <td>169966.0</td>\n",
              "      <td>-3.113832</td>\n",
              "      <td>0.585864</td>\n",
              "      <td>-5.399730</td>\n",
              "      <td>1.817092</td>\n",
              "      <td>-0.840618</td>\n",
              "      <td>-2.943548</td>\n",
              "      <td>-2.208002</td>\n",
              "      <td>1.058733</td>\n",
              "      <td>...</td>\n",
              "      <td>0.583276</td>\n",
              "      <td>-0.269209</td>\n",
              "      <td>-0.456108</td>\n",
              "      <td>-0.183659</td>\n",
              "      <td>-0.328168</td>\n",
              "      <td>0.606116</td>\n",
              "      <td>0.884876</td>\n",
              "      <td>-0.253700</td>\n",
              "      <td>245.00</td>\n",
              "      <td>1</td>\n",
              "    </tr>\n",
              "    <tr>\n",
              "      <th>42316</th>\n",
              "      <td>281674</td>\n",
              "      <td>170348.0</td>\n",
              "      <td>1.991976</td>\n",
              "      <td>0.158476</td>\n",
              "      <td>-2.583441</td>\n",
              "      <td>0.408670</td>\n",
              "      <td>1.151147</td>\n",
              "      <td>-0.096695</td>\n",
              "      <td>0.223050</td>\n",
              "      <td>-0.068384</td>\n",
              "      <td>...</td>\n",
              "      <td>-0.164350</td>\n",
              "      <td>-0.295135</td>\n",
              "      <td>-0.072173</td>\n",
              "      <td>-0.450261</td>\n",
              "      <td>0.313267</td>\n",
              "      <td>-0.289617</td>\n",
              "      <td>0.002988</td>\n",
              "      <td>-0.015309</td>\n",
              "      <td>42.53</td>\n",
              "      <td>1</td>\n",
              "    </tr>\n",
              "  </tbody>\n",
              "</table>\n",
              "<p>5 rows × 32 columns</p>\n",
              "</div>"
            ],
            "text/plain": [
              "       Unnamed: 0      Time        V1        V2        V3        V4        V5  \\\n",
              "42312      279863  169142.0 -1.927883  1.125653 -4.518331  1.749293 -1.566487   \n",
              "42313      280143  169347.0  1.378559  1.289381 -5.004247  1.411850  0.442581   \n",
              "42314      280149  169351.0 -0.676143  1.126366 -2.213700  0.468308 -1.120541   \n",
              "42315      281144  169966.0 -3.113832  0.585864 -5.399730  1.817092 -0.840618   \n",
              "42316      281674  170348.0  1.991976  0.158476 -2.583441  0.408670  1.151147   \n",
              "\n",
              "             V6        V7        V8  ...       V21       V22       V23  \\\n",
              "42312 -2.010494 -0.882850  0.697211  ...  0.778584 -0.319189  0.639419   \n",
              "42313 -1.326536 -1.413170  0.248525  ...  0.370612  0.028234 -0.145640   \n",
              "42314 -0.003346 -2.234739  1.210158  ...  0.751826  0.834108  0.190944   \n",
              "42315 -2.943548 -2.208002  1.058733  ...  0.583276 -0.269209 -0.456108   \n",
              "42316 -0.096695  0.223050 -0.068384  ... -0.164350 -0.295135 -0.072173   \n",
              "\n",
              "            V24       V25       V26       V27       V28  Amount  Class  \n",
              "42312 -0.294885  0.537503  0.788395  0.292680  0.147968  390.00      1  \n",
              "42313 -0.081049  0.521875  0.739467  0.389152  0.186637    0.76      1  \n",
              "42314  0.032070 -0.739695  0.471111  0.385107  0.194361   77.89      1  \n",
              "42315 -0.183659 -0.328168  0.606116  0.884876 -0.253700  245.00      1  \n",
              "42316 -0.450261  0.313267 -0.289617  0.002988 -0.015309   42.53      1  \n",
              "\n",
              "[5 rows x 32 columns]"
            ]
          },
          "execution_count": 18,
          "metadata": {},
          "output_type": "execute_result"
        }
      ]
    },
    {
      "cell_type": "code",
      "metadata": {
        "id": "d43c3718",
        "outputId": "053ec580-943a-4842-b800-b31a4f9e031a"
      },
      "source": [
        "new_dataset['Class'].value_counts() #Its provide the exact number of legit and fraud transaction"
      ],
      "id": "d43c3718",
      "execution_count": null,
      "outputs": [
        {
          "data": {
            "text/plain": [
              "0    600\n",
              "1    492\n",
              "Name: Class, dtype: int64"
            ]
          },
          "execution_count": 19,
          "metadata": {},
          "output_type": "execute_result"
        }
      ]
    },
    {
      "cell_type": "code",
      "metadata": {
        "id": "81e4c695",
        "outputId": "51e67b3a-6202-47fe-9796-9484ff9abacc"
      },
      "source": [
        "new_dataset.groupby('Class').mean() "
      ],
      "id": "81e4c695",
      "execution_count": null,
      "outputs": [
        {
          "data": {
            "text/html": [
              "<div>\n",
              "<style scoped>\n",
              "    .dataframe tbody tr th:only-of-type {\n",
              "        vertical-align: middle;\n",
              "    }\n",
              "\n",
              "    .dataframe tbody tr th {\n",
              "        vertical-align: top;\n",
              "    }\n",
              "\n",
              "    .dataframe thead th {\n",
              "        text-align: right;\n",
              "    }\n",
              "</style>\n",
              "<table border=\"1\" class=\"dataframe\">\n",
              "  <thead>\n",
              "    <tr style=\"text-align: right;\">\n",
              "      <th></th>\n",
              "      <th>Unnamed: 0</th>\n",
              "      <th>Time</th>\n",
              "      <th>V1</th>\n",
              "      <th>V2</th>\n",
              "      <th>V3</th>\n",
              "      <th>V4</th>\n",
              "      <th>V5</th>\n",
              "      <th>V6</th>\n",
              "      <th>V7</th>\n",
              "      <th>V8</th>\n",
              "      <th>...</th>\n",
              "      <th>V20</th>\n",
              "      <th>V21</th>\n",
              "      <th>V22</th>\n",
              "      <th>V23</th>\n",
              "      <th>V24</th>\n",
              "      <th>V25</th>\n",
              "      <th>V26</th>\n",
              "      <th>V27</th>\n",
              "      <th>V28</th>\n",
              "      <th>Amount</th>\n",
              "    </tr>\n",
              "    <tr>\n",
              "      <th>Class</th>\n",
              "      <th></th>\n",
              "      <th></th>\n",
              "      <th></th>\n",
              "      <th></th>\n",
              "      <th></th>\n",
              "      <th></th>\n",
              "      <th></th>\n",
              "      <th></th>\n",
              "      <th></th>\n",
              "      <th></th>\n",
              "      <th></th>\n",
              "      <th></th>\n",
              "      <th></th>\n",
              "      <th></th>\n",
              "      <th></th>\n",
              "      <th></th>\n",
              "      <th></th>\n",
              "      <th></th>\n",
              "      <th></th>\n",
              "      <th></th>\n",
              "      <th></th>\n",
              "    </tr>\n",
              "  </thead>\n",
              "  <tbody>\n",
              "    <tr>\n",
              "      <th>0</th>\n",
              "      <td>145080.745000</td>\n",
              "      <td>96439.043333</td>\n",
              "      <td>-0.081266</td>\n",
              "      <td>0.060938</td>\n",
              "      <td>0.114524</td>\n",
              "      <td>-0.036708</td>\n",
              "      <td>0.042118</td>\n",
              "      <td>-0.073010</td>\n",
              "      <td>0.027780</td>\n",
              "      <td>0.019156</td>\n",
              "      <td>...</td>\n",
              "      <td>-0.080548</td>\n",
              "      <td>-0.030906</td>\n",
              "      <td>-0.014845</td>\n",
              "      <td>0.065451</td>\n",
              "      <td>-0.052858</td>\n",
              "      <td>0.014364</td>\n",
              "      <td>0.008542</td>\n",
              "      <td>0.023344</td>\n",
              "      <td>-0.007345</td>\n",
              "      <td>64.863400</td>\n",
              "    </tr>\n",
              "    <tr>\n",
              "      <th>1</th>\n",
              "      <td>119295.058943</td>\n",
              "      <td>80746.806911</td>\n",
              "      <td>-4.771948</td>\n",
              "      <td>3.623778</td>\n",
              "      <td>-7.033281</td>\n",
              "      <td>4.542029</td>\n",
              "      <td>-3.151225</td>\n",
              "      <td>-1.397737</td>\n",
              "      <td>-5.568731</td>\n",
              "      <td>0.570636</td>\n",
              "      <td>...</td>\n",
              "      <td>0.372319</td>\n",
              "      <td>0.713588</td>\n",
              "      <td>0.014049</td>\n",
              "      <td>-0.040308</td>\n",
              "      <td>-0.105130</td>\n",
              "      <td>0.041449</td>\n",
              "      <td>0.051648</td>\n",
              "      <td>0.170575</td>\n",
              "      <td>0.075667</td>\n",
              "      <td>122.211321</td>\n",
              "    </tr>\n",
              "  </tbody>\n",
              "</table>\n",
              "<p>2 rows × 31 columns</p>\n",
              "</div>"
            ],
            "text/plain": [
              "          Unnamed: 0          Time        V1        V2        V3        V4  \\\n",
              "Class                                                                        \n",
              "0      145080.745000  96439.043333 -0.081266  0.060938  0.114524 -0.036708   \n",
              "1      119295.058943  80746.806911 -4.771948  3.623778 -7.033281  4.542029   \n",
              "\n",
              "             V5        V6        V7        V8  ...       V20       V21  \\\n",
              "Class                                          ...                       \n",
              "0      0.042118 -0.073010  0.027780  0.019156  ... -0.080548 -0.030906   \n",
              "1     -3.151225 -1.397737 -5.568731  0.570636  ...  0.372319  0.713588   \n",
              "\n",
              "            V22       V23       V24       V25       V26       V27       V28  \\\n",
              "Class                                                                         \n",
              "0     -0.014845  0.065451 -0.052858  0.014364  0.008542  0.023344 -0.007345   \n",
              "1      0.014049 -0.040308 -0.105130  0.041449  0.051648  0.170575  0.075667   \n",
              "\n",
              "           Amount  \n",
              "Class              \n",
              "0       64.863400  \n",
              "1      122.211321  \n",
              "\n",
              "[2 rows x 31 columns]"
            ]
          },
          "execution_count": 20,
          "metadata": {},
          "output_type": "execute_result"
        }
      ]
    },
    {
      "cell_type": "code",
      "metadata": {
        "id": "5afaefdc"
      },
      "source": [
        "X = new_dataset.drop(columns='Class', axis=1) \n",
        "Y = new_dataset['Class'] "
      ],
      "id": "5afaefdc",
      "execution_count": null,
      "outputs": []
    },
    {
      "cell_type": "code",
      "metadata": {
        "id": "46163fdb",
        "outputId": "0c89bb03-673b-46f8-993b-5f731b657ed6"
      },
      "source": [
        "print(X)"
      ],
      "id": "46163fdb",
      "execution_count": null,
      "outputs": [
        {
          "name": "stdout",
          "output_type": "stream",
          "text": [
            "       Unnamed: 0      Time        V1        V2        V3        V4        V5  \\\n",
            "7545        39475   39852.0  1.323436  0.250955 -0.122484  0.476151  0.005921   \n",
            "16331      119224   75375.0  1.101958  0.033121  1.203524  1.284345 -0.905243   \n",
            "6248       134526   80844.0 -0.120173  0.691338  0.465524 -0.777429 -0.120862   \n",
            "11702      168963  119458.0 -0.861859  0.409233 -0.576610 -1.630561  2.486559   \n",
            "8548       225039  144078.0 -0.379106  1.040934 -2.547272 -2.124769  3.296818   \n",
            "...           ...       ...       ...       ...       ...       ...       ...   \n",
            "42312      279863  169142.0 -1.927883  1.125653 -4.518331  1.749293 -1.566487   \n",
            "42313      280143  169347.0  1.378559  1.289381 -5.004247  1.411850  0.442581   \n",
            "42314      280149  169351.0 -0.676143  1.126366 -2.213700  0.468308 -1.120541   \n",
            "42315      281144  169966.0 -3.113832  0.585864 -5.399730  1.817092 -0.840618   \n",
            "42316      281674  170348.0  1.991976  0.158476 -2.583441  0.408670  1.151147   \n",
            "\n",
            "             V6        V7        V8  ...       V20       V21       V22  \\\n",
            "7545  -0.543387 -0.005762 -0.081414  ... -0.117003 -0.363467 -1.095632   \n",
            "16331 -0.413869 -0.422015 -0.013224  ...  0.000612  0.134114  0.367896   \n",
            "6248  -1.256672  0.626456 -0.398861  ...  0.216696  0.328903  0.906815   \n",
            "11702  3.638282 -0.284048  1.451850  ...  0.013273 -0.340951 -1.291552   \n",
            "8548   2.695935  0.716059  1.036578  ... -0.106340  0.287695  0.785989   \n",
            "...         ...       ...       ...  ...       ...       ...       ...   \n",
            "42312 -2.010494 -0.882850  0.697211  ...  1.252967  0.778584 -0.319189   \n",
            "42313 -1.326536 -1.413170  0.248525  ...  0.226138  0.370612  0.028234   \n",
            "42314 -0.003346 -2.234739  1.210158  ...  0.247968  0.751826  0.834108   \n",
            "42315 -2.943548 -2.208002  1.058733  ...  0.306271  0.583276 -0.269209   \n",
            "42316 -0.096695  0.223050 -0.068384  ... -0.017652 -0.164350 -0.295135   \n",
            "\n",
            "            V23       V24       V25       V26       V27       V28  Amount  \n",
            "7545   0.022048 -0.655209  0.309507  0.158095 -0.031326  0.018740    1.98  \n",
            "16331 -0.047546  0.391943  0.345666 -0.367159  0.059058  0.048623   45.00  \n",
            "6248  -0.258401  0.375488 -0.126752 -0.058513  0.020623  0.163386   22.49  \n",
            "11702  0.186636  0.649760 -0.447387 -0.409701  0.015846  0.036434   23.29  \n",
            "8548  -0.153868  0.754224 -0.248810  0.111286  0.289422  0.196690    4.62  \n",
            "...         ...       ...       ...       ...       ...       ...     ...  \n",
            "42312  0.639419 -0.294885  0.537503  0.788395  0.292680  0.147968  390.00  \n",
            "42313 -0.145640 -0.081049  0.521875  0.739467  0.389152  0.186637    0.76  \n",
            "42314  0.190944  0.032070 -0.739695  0.471111  0.385107  0.194361   77.89  \n",
            "42315 -0.456108 -0.183659 -0.328168  0.606116  0.884876 -0.253700  245.00  \n",
            "42316 -0.072173 -0.450261  0.313267 -0.289617  0.002988 -0.015309   42.53  \n",
            "\n",
            "[1092 rows x 31 columns]\n"
          ]
        }
      ]
    },
    {
      "cell_type": "code",
      "metadata": {
        "id": "3e6a0525",
        "outputId": "45051dba-e024-4916-b071-4b2498612240"
      },
      "source": [
        "print(Y)"
      ],
      "id": "3e6a0525",
      "execution_count": null,
      "outputs": [
        {
          "name": "stdout",
          "output_type": "stream",
          "text": [
            "7545     0\n",
            "16331    0\n",
            "6248     0\n",
            "11702    0\n",
            "8548     0\n",
            "        ..\n",
            "42312    1\n",
            "42313    1\n",
            "42314    1\n",
            "42315    1\n",
            "42316    1\n",
            "Name: Class, Length: 1092, dtype: int64\n"
          ]
        }
      ]
    },
    {
      "cell_type": "code",
      "metadata": {
        "id": "188ee0c3"
      },
      "source": [
        "X_train, X_test, Y_train, Y_test = train_test_split(X, Y, test_size=0.2, stratify=Y, random_state=2) #spliting data in training and test data set"
      ],
      "id": "188ee0c3",
      "execution_count": null,
      "outputs": []
    },
    {
      "cell_type": "code",
      "metadata": {
        "id": "ebda1ff8",
        "outputId": "0b5a0e8a-afdd-451b-b2c7-2c493b5e05e8"
      },
      "source": [
        "print(X.shape, X_train.shape, X_test.shape)"
      ],
      "id": "ebda1ff8",
      "execution_count": null,
      "outputs": [
        {
          "name": "stdout",
          "output_type": "stream",
          "text": [
            "(1092, 31) (873, 31) (219, 31)\n"
          ]
        }
      ]
    },
    {
      "cell_type": "code",
      "metadata": {
        "id": "15e23c88"
      },
      "source": [
        "from sklearn.ensemble import RandomForestClassifier\n",
        "\n",
        "lr = LogisticRegression() #using  logistic regression and saving in model\n",
        "rf = RandomForestClassifier()"
      ],
      "id": "15e23c88",
      "execution_count": null,
      "outputs": []
    },
    {
      "cell_type": "code",
      "metadata": {
        "id": "905c7f5f",
        "outputId": "4a9f6553-3d02-45ba-b5e3-fc9274c7bed6"
      },
      "source": [
        "lr.fit(X_train, Y_train) #training model using train data set\n",
        "rf.fit(X_train, Y_train) #training model using train data set"
      ],
      "id": "905c7f5f",
      "execution_count": null,
      "outputs": [
        {
          "data": {
            "text/plain": [
              "RandomForestClassifier()"
            ]
          },
          "execution_count": 28,
          "metadata": {},
          "output_type": "execute_result"
        }
      ]
    },
    {
      "cell_type": "markdown",
      "metadata": {
        "id": "38d3d87c"
      },
      "source": [
        "# Evaluation"
      ],
      "id": "38d3d87c"
    },
    {
      "cell_type": "code",
      "metadata": {
        "id": "a04fb98d"
      },
      "source": [
        "X_train_prediction_lr = lr.predict(X_train) #checking accuracy for the training data set\n",
        "training_data_accuracy_lr = accuracy_score(X_train_prediction_lr, Y_train) \n",
        "\n",
        "X_train_prediction_rf = rf.predict(X_train) #checking accuracy for the training data set\n",
        "training_data_accuracy_rf = accuracy_score(X_train_prediction_rf, Y_train) "
      ],
      "id": "a04fb98d",
      "execution_count": null,
      "outputs": []
    },
    {
      "cell_type": "code",
      "metadata": {
        "id": "6dabf0e0",
        "outputId": "bfdc7aac-09f0-4a92-f0a2-96f89a6204cf"
      },
      "source": [
        "print('Accuracy on Training data with LogReg : ', training_data_accuracy_lr)\n",
        "print('Accuracy on Training data with RandomForest : ', training_data_accuracy_rf)"
      ],
      "id": "6dabf0e0",
      "execution_count": null,
      "outputs": [
        {
          "name": "stdout",
          "output_type": "stream",
          "text": [
            "Accuracy on Training data with LogReg :  0.9301260022909508\n",
            "Accuracy on Training data with RandomForest :  1.0\n"
          ]
        }
      ]
    },
    {
      "cell_type": "code",
      "metadata": {
        "id": "1564f949"
      },
      "source": [
        "X_test_prediction_lr = lr.predict(X_test) #checking accuracy for the test data set\n",
        "test_data_accuracy_lr = accuracy_score(X_test_prediction_lr, Y_test)\n",
        "\n",
        "X_test_prediction_rf = rf.predict(X_test) #checking accuracy for the test data set\n",
        "test_data_accuracy_rf = accuracy_score(X_test_prediction_rf, Y_test)"
      ],
      "id": "1564f949",
      "execution_count": null,
      "outputs": []
    },
    {
      "cell_type": "code",
      "metadata": {
        "id": "d54f626c",
        "outputId": "67c30034-946d-40a8-bc5d-ca19762ad0b1"
      },
      "source": [
        "print('Accuracy score on Test Data with LogReg : ', test_data_accuracy_lr)\n",
        "print('Accuracy score on Test Data with RandomForest : ', test_data_accuracy_rf)"
      ],
      "id": "d54f626c",
      "execution_count": null,
      "outputs": [
        {
          "name": "stdout",
          "output_type": "stream",
          "text": [
            "Accuracy score on Test Data with LogReg :  0.91324200913242\n",
            "Accuracy score on Test Data with RandomForest :  0.958904109589041\n"
          ]
        }
      ]
    },
    {
      "cell_type": "code",
      "metadata": {
        "id": "5848c72f"
      },
      "source": [
        ""
      ],
      "id": "5848c72f",
      "execution_count": null,
      "outputs": []
    }
  ]
}